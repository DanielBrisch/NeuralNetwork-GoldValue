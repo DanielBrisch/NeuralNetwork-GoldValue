{
  "cells": [
    {
      "cell_type": "markdown",
      "metadata": {
        "id": "view-in-github",
        "colab_type": "text"
      },
      "source": [
        "<a href=\"https://colab.research.google.com/github/DanielBrisch/RedeNeural-ValorDoOuro/blob/main/Rede_neural_Valor_do_ouro.ipynb\" target=\"_parent\"><img src=\"https://colab.research.google.com/assets/colab-badge.svg\" alt=\"Open In Colab\"/></a>"
      ]
    },
    {
      "cell_type": "markdown",
      "metadata": {
        "id": "0BgCxaTsUKo0"
      },
      "source": [
        "# Utilização de Redes Neurais Recorrentes - Preço do Ouro\n"
      ]
    },
    {
      "cell_type": "code",
      "execution_count": null,
      "metadata": {
        "id": "OSp-1Fkol2D4"
      },
      "outputs": [],
      "source": [
        "import numpy as np\n",
        "import matplotlib.pyplot as plt\n",
        "import pandas as pd"
      ]
    },
    {
      "cell_type": "code",
      "execution_count": null,
      "metadata": {
        "id": "UaugiF4ul6RO"
      },
      "outputs": [],
      "source": [
        "from keras.models import Sequential\n",
        "from keras.layers import Dense\n",
        "from keras.layers import LSTM\n",
        "from keras.layers import Dropout\n",
        "import yfinance as yf"
      ]
    },
    {
      "cell_type": "code",
      "execution_count": null,
      "metadata": {
        "id": "JLq5TDzvo05S"
      },
      "outputs": [],
      "source": [
        "from sklearn.preprocessing import MinMaxScaler"
      ]
    },
    {
      "cell_type": "markdown",
      "metadata": {
        "id": "7E_KS_xPpDAg"
      },
      "source": [
        "## Importando os dados da tabela\n"
      ]
    },
    {
      "cell_type": "code",
      "execution_count": null,
      "metadata": {
        "id": "n6uQhFN7pTST",
        "colab": {
          "base_uri": "https://localhost:8080/"
        },
        "outputId": "8f545af1-a021-4c45-946c-31bb5ea7edc6"
      },
      "outputs": [
        {
          "output_type": "stream",
          "name": "stdout",
          "text": [
            "\r[*********************100%***********************]  1 of 1 completed\n"
          ]
        }
      ],
      "source": [
        "df = yf.download('GC=F', start='2000-01-01', end='2023-04-30')\n",
        "df= df.dropna()\n",
        "Gold_set = df.iloc[:, 1:2].values"
      ]
    },
    {
      "cell_type": "code",
      "execution_count": null,
      "metadata": {
        "colab": {
          "base_uri": "https://localhost:8080/",
          "height": 455
        },
        "id": "-jyFVfWJEUk8",
        "outputId": "be26e676-e9b7-4ce6-ad62-a707970b5b9e"
      },
      "outputs": [
        {
          "output_type": "execute_result",
          "data": {
            "text/plain": [
              "                   Open         High          Low        Close    Adj Close  \\\n",
              "Date                                                                          \n",
              "2000-08-30   273.899994   273.899994   273.899994   273.899994   273.899994   \n",
              "2000-08-31   274.799988   278.299988   274.799988   278.299988   278.299988   \n",
              "2000-09-01   277.000000   277.000000   277.000000   277.000000   277.000000   \n",
              "2000-09-05   275.799988   275.799988   275.799988   275.799988   275.799988   \n",
              "2000-09-06   274.200012   274.200012   274.200012   274.200012   274.200012   \n",
              "...                 ...          ...          ...          ...          ...   \n",
              "2023-04-24  1981.300049  1989.800049  1977.400024  1989.099976  1989.099976   \n",
              "2023-04-25  1995.699951  1999.099976  1982.300049  1994.000000  1994.000000   \n",
              "2023-04-26  1997.800049  1998.800049  1985.599976  1985.699951  1985.699951   \n",
              "2023-04-27  1990.599976  2002.300049  1979.900024  1989.900024  1989.900024   \n",
              "2023-04-28  1986.900024  1990.099976  1977.699951  1990.099976  1990.099976   \n",
              "\n",
              "            Volume  \n",
              "Date                \n",
              "2000-08-30       0  \n",
              "2000-08-31       0  \n",
              "2000-09-01       0  \n",
              "2000-09-05       2  \n",
              "2000-09-06       0  \n",
              "...            ...  \n",
              "2023-04-24     145  \n",
              "2023-04-25     306  \n",
              "2023-04-26     615  \n",
              "2023-04-27     355  \n",
              "2023-04-28     152  \n",
              "\n",
              "[5687 rows x 6 columns]"
            ],
            "text/html": [
              "\n",
              "  <div id=\"df-d4eb1854-26e4-4250-a967-b7a3d730d1ac\">\n",
              "    <div class=\"colab-df-container\">\n",
              "      <div>\n",
              "<style scoped>\n",
              "    .dataframe tbody tr th:only-of-type {\n",
              "        vertical-align: middle;\n",
              "    }\n",
              "\n",
              "    .dataframe tbody tr th {\n",
              "        vertical-align: top;\n",
              "    }\n",
              "\n",
              "    .dataframe thead th {\n",
              "        text-align: right;\n",
              "    }\n",
              "</style>\n",
              "<table border=\"1\" class=\"dataframe\">\n",
              "  <thead>\n",
              "    <tr style=\"text-align: right;\">\n",
              "      <th></th>\n",
              "      <th>Open</th>\n",
              "      <th>High</th>\n",
              "      <th>Low</th>\n",
              "      <th>Close</th>\n",
              "      <th>Adj Close</th>\n",
              "      <th>Volume</th>\n",
              "    </tr>\n",
              "    <tr>\n",
              "      <th>Date</th>\n",
              "      <th></th>\n",
              "      <th></th>\n",
              "      <th></th>\n",
              "      <th></th>\n",
              "      <th></th>\n",
              "      <th></th>\n",
              "    </tr>\n",
              "  </thead>\n",
              "  <tbody>\n",
              "    <tr>\n",
              "      <th>2000-08-30</th>\n",
              "      <td>273.899994</td>\n",
              "      <td>273.899994</td>\n",
              "      <td>273.899994</td>\n",
              "      <td>273.899994</td>\n",
              "      <td>273.899994</td>\n",
              "      <td>0</td>\n",
              "    </tr>\n",
              "    <tr>\n",
              "      <th>2000-08-31</th>\n",
              "      <td>274.799988</td>\n",
              "      <td>278.299988</td>\n",
              "      <td>274.799988</td>\n",
              "      <td>278.299988</td>\n",
              "      <td>278.299988</td>\n",
              "      <td>0</td>\n",
              "    </tr>\n",
              "    <tr>\n",
              "      <th>2000-09-01</th>\n",
              "      <td>277.000000</td>\n",
              "      <td>277.000000</td>\n",
              "      <td>277.000000</td>\n",
              "      <td>277.000000</td>\n",
              "      <td>277.000000</td>\n",
              "      <td>0</td>\n",
              "    </tr>\n",
              "    <tr>\n",
              "      <th>2000-09-05</th>\n",
              "      <td>275.799988</td>\n",
              "      <td>275.799988</td>\n",
              "      <td>275.799988</td>\n",
              "      <td>275.799988</td>\n",
              "      <td>275.799988</td>\n",
              "      <td>2</td>\n",
              "    </tr>\n",
              "    <tr>\n",
              "      <th>2000-09-06</th>\n",
              "      <td>274.200012</td>\n",
              "      <td>274.200012</td>\n",
              "      <td>274.200012</td>\n",
              "      <td>274.200012</td>\n",
              "      <td>274.200012</td>\n",
              "      <td>0</td>\n",
              "    </tr>\n",
              "    <tr>\n",
              "      <th>...</th>\n",
              "      <td>...</td>\n",
              "      <td>...</td>\n",
              "      <td>...</td>\n",
              "      <td>...</td>\n",
              "      <td>...</td>\n",
              "      <td>...</td>\n",
              "    </tr>\n",
              "    <tr>\n",
              "      <th>2023-04-24</th>\n",
              "      <td>1981.300049</td>\n",
              "      <td>1989.800049</td>\n",
              "      <td>1977.400024</td>\n",
              "      <td>1989.099976</td>\n",
              "      <td>1989.099976</td>\n",
              "      <td>145</td>\n",
              "    </tr>\n",
              "    <tr>\n",
              "      <th>2023-04-25</th>\n",
              "      <td>1995.699951</td>\n",
              "      <td>1999.099976</td>\n",
              "      <td>1982.300049</td>\n",
              "      <td>1994.000000</td>\n",
              "      <td>1994.000000</td>\n",
              "      <td>306</td>\n",
              "    </tr>\n",
              "    <tr>\n",
              "      <th>2023-04-26</th>\n",
              "      <td>1997.800049</td>\n",
              "      <td>1998.800049</td>\n",
              "      <td>1985.599976</td>\n",
              "      <td>1985.699951</td>\n",
              "      <td>1985.699951</td>\n",
              "      <td>615</td>\n",
              "    </tr>\n",
              "    <tr>\n",
              "      <th>2023-04-27</th>\n",
              "      <td>1990.599976</td>\n",
              "      <td>2002.300049</td>\n",
              "      <td>1979.900024</td>\n",
              "      <td>1989.900024</td>\n",
              "      <td>1989.900024</td>\n",
              "      <td>355</td>\n",
              "    </tr>\n",
              "    <tr>\n",
              "      <th>2023-04-28</th>\n",
              "      <td>1986.900024</td>\n",
              "      <td>1990.099976</td>\n",
              "      <td>1977.699951</td>\n",
              "      <td>1990.099976</td>\n",
              "      <td>1990.099976</td>\n",
              "      <td>152</td>\n",
              "    </tr>\n",
              "  </tbody>\n",
              "</table>\n",
              "<p>5687 rows × 6 columns</p>\n",
              "</div>\n",
              "      <button class=\"colab-df-convert\" onclick=\"convertToInteractive('df-d4eb1854-26e4-4250-a967-b7a3d730d1ac')\"\n",
              "              title=\"Convert this dataframe to an interactive table.\"\n",
              "              style=\"display:none;\">\n",
              "        \n",
              "  <svg xmlns=\"http://www.w3.org/2000/svg\" height=\"24px\"viewBox=\"0 0 24 24\"\n",
              "       width=\"24px\">\n",
              "    <path d=\"M0 0h24v24H0V0z\" fill=\"none\"/>\n",
              "    <path d=\"M18.56 5.44l.94 2.06.94-2.06 2.06-.94-2.06-.94-.94-2.06-.94 2.06-2.06.94zm-11 1L8.5 8.5l.94-2.06 2.06-.94-2.06-.94L8.5 2.5l-.94 2.06-2.06.94zm10 10l.94 2.06.94-2.06 2.06-.94-2.06-.94-.94-2.06-.94 2.06-2.06.94z\"/><path d=\"M17.41 7.96l-1.37-1.37c-.4-.4-.92-.59-1.43-.59-.52 0-1.04.2-1.43.59L10.3 9.45l-7.72 7.72c-.78.78-.78 2.05 0 2.83L4 21.41c.39.39.9.59 1.41.59.51 0 1.02-.2 1.41-.59l7.78-7.78 2.81-2.81c.8-.78.8-2.07 0-2.86zM5.41 20L4 18.59l7.72-7.72 1.47 1.35L5.41 20z\"/>\n",
              "  </svg>\n",
              "      </button>\n",
              "      \n",
              "  <style>\n",
              "    .colab-df-container {\n",
              "      display:flex;\n",
              "      flex-wrap:wrap;\n",
              "      gap: 12px;\n",
              "    }\n",
              "\n",
              "    .colab-df-convert {\n",
              "      background-color: #E8F0FE;\n",
              "      border: none;\n",
              "      border-radius: 50%;\n",
              "      cursor: pointer;\n",
              "      display: none;\n",
              "      fill: #1967D2;\n",
              "      height: 32px;\n",
              "      padding: 0 0 0 0;\n",
              "      width: 32px;\n",
              "    }\n",
              "\n",
              "    .colab-df-convert:hover {\n",
              "      background-color: #E2EBFA;\n",
              "      box-shadow: 0px 1px 2px rgba(60, 64, 67, 0.3), 0px 1px 3px 1px rgba(60, 64, 67, 0.15);\n",
              "      fill: #174EA6;\n",
              "    }\n",
              "\n",
              "    [theme=dark] .colab-df-convert {\n",
              "      background-color: #3B4455;\n",
              "      fill: #D2E3FC;\n",
              "    }\n",
              "\n",
              "    [theme=dark] .colab-df-convert:hover {\n",
              "      background-color: #434B5C;\n",
              "      box-shadow: 0px 1px 3px 1px rgba(0, 0, 0, 0.15);\n",
              "      filter: drop-shadow(0px 1px 2px rgba(0, 0, 0, 0.3));\n",
              "      fill: #FFFFFF;\n",
              "    }\n",
              "  </style>\n",
              "\n",
              "      <script>\n",
              "        const buttonEl =\n",
              "          document.querySelector('#df-d4eb1854-26e4-4250-a967-b7a3d730d1ac button.colab-df-convert');\n",
              "        buttonEl.style.display =\n",
              "          google.colab.kernel.accessAllowed ? 'block' : 'none';\n",
              "\n",
              "        async function convertToInteractive(key) {\n",
              "          const element = document.querySelector('#df-d4eb1854-26e4-4250-a967-b7a3d730d1ac');\n",
              "          const dataTable =\n",
              "            await google.colab.kernel.invokeFunction('convertToInteractive',\n",
              "                                                     [key], {});\n",
              "          if (!dataTable) return;\n",
              "\n",
              "          const docLinkHtml = 'Like what you see? Visit the ' +\n",
              "            '<a target=\"_blank\" href=https://colab.research.google.com/notebooks/data_table.ipynb>data table notebook</a>'\n",
              "            + ' to learn more about interactive tables.';\n",
              "          element.innerHTML = '';\n",
              "          dataTable['output_type'] = 'display_data';\n",
              "          await google.colab.output.renderOutput(dataTable, element);\n",
              "          const docLink = document.createElement('div');\n",
              "          docLink.innerHTML = docLinkHtml;\n",
              "          element.appendChild(docLink);\n",
              "        }\n",
              "      </script>\n",
              "    </div>\n",
              "  </div>\n",
              "  "
            ]
          },
          "metadata": {},
          "execution_count": 5
        }
      ],
      "source": [
        "df"
      ]
    },
    {
      "cell_type": "code",
      "execution_count": null,
      "metadata": {
        "colab": {
          "base_uri": "https://localhost:8080/",
          "height": 455
        },
        "id": "PdRdoPT2XpKS",
        "outputId": "a380f6bd-fc75-42bf-88c0-2b8c3cb3d98f"
      },
      "outputs": [
        {
          "output_type": "execute_result",
          "data": {
            "text/plain": [
              "                   High\n",
              "Date                   \n",
              "2000-08-30   273.899994\n",
              "2000-08-31   278.299988\n",
              "2000-09-01   277.000000\n",
              "2000-09-05   275.799988\n",
              "2000-09-06   274.200012\n",
              "...                 ...\n",
              "2023-04-24  1989.800049\n",
              "2023-04-25  1999.099976\n",
              "2023-04-26  1998.800049\n",
              "2023-04-27  2002.300049\n",
              "2023-04-28  1990.099976\n",
              "\n",
              "[5687 rows x 1 columns]"
            ],
            "text/html": [
              "\n",
              "  <div id=\"df-bff2c6a6-f927-43fe-92c8-d9cf99890008\">\n",
              "    <div class=\"colab-df-container\">\n",
              "      <div>\n",
              "<style scoped>\n",
              "    .dataframe tbody tr th:only-of-type {\n",
              "        vertical-align: middle;\n",
              "    }\n",
              "\n",
              "    .dataframe tbody tr th {\n",
              "        vertical-align: top;\n",
              "    }\n",
              "\n",
              "    .dataframe thead th {\n",
              "        text-align: right;\n",
              "    }\n",
              "</style>\n",
              "<table border=\"1\" class=\"dataframe\">\n",
              "  <thead>\n",
              "    <tr style=\"text-align: right;\">\n",
              "      <th></th>\n",
              "      <th>High</th>\n",
              "    </tr>\n",
              "    <tr>\n",
              "      <th>Date</th>\n",
              "      <th></th>\n",
              "    </tr>\n",
              "  </thead>\n",
              "  <tbody>\n",
              "    <tr>\n",
              "      <th>2000-08-30</th>\n",
              "      <td>273.899994</td>\n",
              "    </tr>\n",
              "    <tr>\n",
              "      <th>2000-08-31</th>\n",
              "      <td>278.299988</td>\n",
              "    </tr>\n",
              "    <tr>\n",
              "      <th>2000-09-01</th>\n",
              "      <td>277.000000</td>\n",
              "    </tr>\n",
              "    <tr>\n",
              "      <th>2000-09-05</th>\n",
              "      <td>275.799988</td>\n",
              "    </tr>\n",
              "    <tr>\n",
              "      <th>2000-09-06</th>\n",
              "      <td>274.200012</td>\n",
              "    </tr>\n",
              "    <tr>\n",
              "      <th>...</th>\n",
              "      <td>...</td>\n",
              "    </tr>\n",
              "    <tr>\n",
              "      <th>2023-04-24</th>\n",
              "      <td>1989.800049</td>\n",
              "    </tr>\n",
              "    <tr>\n",
              "      <th>2023-04-25</th>\n",
              "      <td>1999.099976</td>\n",
              "    </tr>\n",
              "    <tr>\n",
              "      <th>2023-04-26</th>\n",
              "      <td>1998.800049</td>\n",
              "    </tr>\n",
              "    <tr>\n",
              "      <th>2023-04-27</th>\n",
              "      <td>2002.300049</td>\n",
              "    </tr>\n",
              "    <tr>\n",
              "      <th>2023-04-28</th>\n",
              "      <td>1990.099976</td>\n",
              "    </tr>\n",
              "  </tbody>\n",
              "</table>\n",
              "<p>5687 rows × 1 columns</p>\n",
              "</div>\n",
              "      <button class=\"colab-df-convert\" onclick=\"convertToInteractive('df-bff2c6a6-f927-43fe-92c8-d9cf99890008')\"\n",
              "              title=\"Convert this dataframe to an interactive table.\"\n",
              "              style=\"display:none;\">\n",
              "        \n",
              "  <svg xmlns=\"http://www.w3.org/2000/svg\" height=\"24px\"viewBox=\"0 0 24 24\"\n",
              "       width=\"24px\">\n",
              "    <path d=\"M0 0h24v24H0V0z\" fill=\"none\"/>\n",
              "    <path d=\"M18.56 5.44l.94 2.06.94-2.06 2.06-.94-2.06-.94-.94-2.06-.94 2.06-2.06.94zm-11 1L8.5 8.5l.94-2.06 2.06-.94-2.06-.94L8.5 2.5l-.94 2.06-2.06.94zm10 10l.94 2.06.94-2.06 2.06-.94-2.06-.94-.94-2.06-.94 2.06-2.06.94z\"/><path d=\"M17.41 7.96l-1.37-1.37c-.4-.4-.92-.59-1.43-.59-.52 0-1.04.2-1.43.59L10.3 9.45l-7.72 7.72c-.78.78-.78 2.05 0 2.83L4 21.41c.39.39.9.59 1.41.59.51 0 1.02-.2 1.41-.59l7.78-7.78 2.81-2.81c.8-.78.8-2.07 0-2.86zM5.41 20L4 18.59l7.72-7.72 1.47 1.35L5.41 20z\"/>\n",
              "  </svg>\n",
              "      </button>\n",
              "      \n",
              "  <style>\n",
              "    .colab-df-container {\n",
              "      display:flex;\n",
              "      flex-wrap:wrap;\n",
              "      gap: 12px;\n",
              "    }\n",
              "\n",
              "    .colab-df-convert {\n",
              "      background-color: #E8F0FE;\n",
              "      border: none;\n",
              "      border-radius: 50%;\n",
              "      cursor: pointer;\n",
              "      display: none;\n",
              "      fill: #1967D2;\n",
              "      height: 32px;\n",
              "      padding: 0 0 0 0;\n",
              "      width: 32px;\n",
              "    }\n",
              "\n",
              "    .colab-df-convert:hover {\n",
              "      background-color: #E2EBFA;\n",
              "      box-shadow: 0px 1px 2px rgba(60, 64, 67, 0.3), 0px 1px 3px 1px rgba(60, 64, 67, 0.15);\n",
              "      fill: #174EA6;\n",
              "    }\n",
              "\n",
              "    [theme=dark] .colab-df-convert {\n",
              "      background-color: #3B4455;\n",
              "      fill: #D2E3FC;\n",
              "    }\n",
              "\n",
              "    [theme=dark] .colab-df-convert:hover {\n",
              "      background-color: #434B5C;\n",
              "      box-shadow: 0px 1px 3px 1px rgba(0, 0, 0, 0.15);\n",
              "      filter: drop-shadow(0px 1px 2px rgba(0, 0, 0, 0.3));\n",
              "      fill: #FFFFFF;\n",
              "    }\n",
              "  </style>\n",
              "\n",
              "      <script>\n",
              "        const buttonEl =\n",
              "          document.querySelector('#df-bff2c6a6-f927-43fe-92c8-d9cf99890008 button.colab-df-convert');\n",
              "        buttonEl.style.display =\n",
              "          google.colab.kernel.accessAllowed ? 'block' : 'none';\n",
              "\n",
              "        async function convertToInteractive(key) {\n",
              "          const element = document.querySelector('#df-bff2c6a6-f927-43fe-92c8-d9cf99890008');\n",
              "          const dataTable =\n",
              "            await google.colab.kernel.invokeFunction('convertToInteractive',\n",
              "                                                     [key], {});\n",
              "          if (!dataTable) return;\n",
              "\n",
              "          const docLinkHtml = 'Like what you see? Visit the ' +\n",
              "            '<a target=\"_blank\" href=https://colab.research.google.com/notebooks/data_table.ipynb>data table notebook</a>'\n",
              "            + ' to learn more about interactive tables.';\n",
              "          element.innerHTML = '';\n",
              "          dataTable['output_type'] = 'display_data';\n",
              "          await google.colab.output.renderOutput(dataTable, element);\n",
              "          const docLink = document.createElement('div');\n",
              "          docLink.innerHTML = docLinkHtml;\n",
              "          element.appendChild(docLink);\n",
              "        }\n",
              "      </script>\n",
              "    </div>\n",
              "  </div>\n",
              "  "
            ]
          },
          "metadata": {},
          "execution_count": 6
        }
      ],
      "source": [
        "df.iloc[:, 1:2]"
      ]
    },
    {
      "cell_type": "markdown",
      "metadata": {
        "id": "nAtKQnn6pB0J"
      },
      "source": [
        "## Dimensionamento dos dados"
      ]
    },
    {
      "cell_type": "code",
      "execution_count": null,
      "metadata": {
        "id": "BwNcupnqqP-a"
      },
      "outputs": [],
      "source": [
        "sc = MinMaxScaler(feature_range=(0, 1))\n",
        "Gold_set_scaled = sc.fit_transform(Gold_set)"
      ]
    },
    {
      "cell_type": "markdown",
      "metadata": {
        "id": "xXJgnbWRqy9C"
      },
      "source": [
        "## Criação de uma estrutura de dados com 20 timesteps e 1 um saída"
      ]
    },
    {
      "cell_type": "code",
      "execution_count": null,
      "metadata": {
        "id": "Nwg5EhxuqxgW"
      },
      "outputs": [],
      "source": [
        "X_gold = []\n",
        "y_gold = []\n",
        "for i in range(20, len(Gold_set_scaled)):\n",
        "    X_gold.append(Gold_set_scaled[i-20:i, 0])\n",
        "    y_gold.append(Gold_set_scaled[i, 0])\n",
        "X_gold, y_gold = np.array(X_gold), np.array(y_gold)"
      ]
    },
    {
      "cell_type": "markdown",
      "metadata": {
        "id": "AlZ7QeWrrTKJ"
      },
      "source": [
        "## Reshaping"
      ]
    },
    {
      "cell_type": "code",
      "execution_count": null,
      "metadata": {
        "id": "iM_RPskGrTn3"
      },
      "outputs": [],
      "source": [
        "X_gold = np.reshape(X_gold, (X_gold.shape[0], X_gold.shape[1], 1))"
      ]
    },
    {
      "cell_type": "code",
      "execution_count": null,
      "metadata": {
        "colab": {
          "base_uri": "https://localhost:8080/"
        },
        "id": "7ASg5iIZt8ZA",
        "outputId": "a80083db-3bf2-4d46-b674-34b428b9e0f1"
      },
      "outputs": [
        {
          "output_type": "execute_result",
          "data": {
            "text/plain": [
              "(20, 1)"
            ]
          },
          "metadata": {},
          "execution_count": 10
        }
      ],
      "source": [
        "X_gold.shape[1], 1"
      ]
    },
    {
      "cell_type": "markdown",
      "metadata": {
        "id": "PtyggSsAmGdO"
      },
      "source": [
        "## Inicializa a RNA\n",
        "### Um modelo sequencial é apropriado para um conjunto simples de camadas onde cada camada tem exatamente um tensor de entrada e um tensor de saída."
      ]
    },
    {
      "cell_type": "code",
      "execution_count": null,
      "metadata": {
        "id": "98bcM_Dkl_PW"
      },
      "outputs": [],
      "source": [
        "regressor = Sequential()"
      ]
    },
    {
      "cell_type": "markdown",
      "metadata": {
        "id": "T3xZW0UxnESh"
      },
      "source": [
        "## Adicionando a primeira camada LSTM (É uma arquitetura de rede neural recorrente) e alguma regularização de Dropout\n",
        "\n",
        "### O intuito é reduzir o overfitting\n",
        "\n",
        "### Dropout Ele consiste em aleatoriamente descartar algumas unidades (neurônios) durante o treinamento de cada época. Isso significa que cada unidade é mantida com uma certa probabilidade (normalmente 60%) e descartada com uma certa probabilidade (40%) -- Em nosso caso.\n"
      ]
    },
    {
      "cell_type": "code",
      "execution_count": null,
      "metadata": {
        "id": "QdNuBUfDmDsK"
      },
      "outputs": [],
      "source": [
        "regressor.add(LSTM(units = 70, return_sequences = True, input_shape = (X_gold.shape[1], 1)))\n",
        "regressor.add(Dropout(0.4))"
      ]
    },
    {
      "cell_type": "markdown",
      "metadata": {
        "id": "kUVdA1h4sJq3"
      },
      "source": [
        "## Adicionando uma segunda camada de LSTM com Regularização Dropout\n",
        "\n",
        "---\n",
        "\n"
      ]
    },
    {
      "cell_type": "code",
      "execution_count": null,
      "metadata": {
        "id": "FBZ7menqsIO4"
      },
      "outputs": [],
      "source": [
        "regressor.add(LSTM(units = 70, return_sequences = True))\n",
        "regressor.add(Dropout(0.4))"
      ]
    },
    {
      "cell_type": "markdown",
      "metadata": {
        "id": "Zq1MUkupsdH8"
      },
      "source": [
        "## Adicionando uma terceira camada de LSTM com Regularização Dropout\n"
      ]
    },
    {
      "cell_type": "code",
      "execution_count": null,
      "metadata": {
        "id": "uIl9BmQTscRT"
      },
      "outputs": [],
      "source": [
        "regressor.add(LSTM(units = 70, return_sequences = True))\n",
        "regressor.add(Dropout(0.4))"
      ]
    },
    {
      "cell_type": "markdown",
      "metadata": {
        "id": "oXmLUIsEsmxx"
      },
      "source": [
        "## Adicionando uma quarta camada de LSTM com Regularização Dropout"
      ]
    },
    {
      "cell_type": "code",
      "execution_count": null,
      "metadata": {
        "id": "RwX_zGu1slej"
      },
      "outputs": [],
      "source": [
        "regressor.add(LSTM(units = 70))\n",
        "regressor.add(Dropout(0.4))"
      ]
    },
    {
      "cell_type": "markdown",
      "metadata": {
        "id": "Ynh4UhOfs4TD"
      },
      "source": [
        "## Adicionando a camada de saída\n",
        "\n"
      ]
    },
    {
      "cell_type": "code",
      "execution_count": null,
      "metadata": {
        "id": "X4lozj1ns6lq"
      },
      "outputs": [],
      "source": [
        "regressor.add(Dense(units = 1))"
      ]
    },
    {
      "cell_type": "markdown",
      "metadata": {
        "id": "DHTCvtaftmvX"
      },
      "source": [
        "## Compilando RNA\n",
        "### Utilizando a otimização ADAM: A otimização de Adam é um método de descida gradiente estocástico baseado na estimativa adaptativa de momentos de primeira e segunda ordem.\n",
        "\n",
        "### A função loss é por meio da média dos quadrados\n",
        "\n"
      ]
    },
    {
      "cell_type": "code",
      "execution_count": null,
      "metadata": {
        "id": "0kM0NFdktC3y"
      },
      "outputs": [],
      "source": [
        "regressor.compile(optimizer = 'Nadam', loss = 'mean_squared_error')"
      ]
    },
    {
      "cell_type": "markdown",
      "metadata": {
        "id": "HGCDxKV4vAQP"
      },
      "source": [
        "## Fitting da RNA para treinamento do set"
      ]
    },
    {
      "cell_type": "code",
      "execution_count": null,
      "metadata": {
        "colab": {
          "base_uri": "https://localhost:8080/"
        },
        "id": "A9sqfMIGu04Y",
        "outputId": "e50e867d-4ec7-4818-9e11-4c10915d581e"
      },
      "outputs": [
        {
          "output_type": "stream",
          "name": "stdout",
          "text": [
            "Epoch 1/100\n",
            "178/178 [==============================] - 40s 70ms/step - loss: 0.0129\n",
            "Epoch 2/100\n",
            "178/178 [==============================] - 11s 64ms/step - loss: 0.0045\n",
            "Epoch 3/100\n",
            "178/178 [==============================] - 10s 59ms/step - loss: 0.0040\n",
            "Epoch 4/100\n",
            "178/178 [==============================] - 11s 63ms/step - loss: 0.0037\n",
            "Epoch 5/100\n",
            "178/178 [==============================] - 11s 64ms/step - loss: 0.0034\n",
            "Epoch 6/100\n",
            "178/178 [==============================] - 12s 69ms/step - loss: 0.0030\n",
            "Epoch 7/100\n",
            "178/178 [==============================] - 11s 63ms/step - loss: 0.0028\n",
            "Epoch 8/100\n",
            "178/178 [==============================] - 12s 66ms/step - loss: 0.0027\n",
            "Epoch 9/100\n",
            "178/178 [==============================] - 11s 63ms/step - loss: 0.0025\n",
            "Epoch 10/100\n",
            "178/178 [==============================] - 11s 63ms/step - loss: 0.0022\n",
            "Epoch 11/100\n",
            "178/178 [==============================] - 12s 69ms/step - loss: 0.0022\n",
            "Epoch 12/100\n",
            "178/178 [==============================] - 10s 57ms/step - loss: 0.0021\n",
            "Epoch 13/100\n",
            "178/178 [==============================] - 11s 64ms/step - loss: 0.0020\n",
            "Epoch 14/100\n",
            "178/178 [==============================] - 11s 64ms/step - loss: 0.0018\n",
            "Epoch 15/100\n",
            "178/178 [==============================] - 11s 63ms/step - loss: 0.0018\n",
            "Epoch 16/100\n",
            "178/178 [==============================] - 11s 63ms/step - loss: 0.0017\n",
            "Epoch 17/100\n",
            "178/178 [==============================] - 11s 63ms/step - loss: 0.0017\n",
            "Epoch 18/100\n",
            "178/178 [==============================] - 11s 63ms/step - loss: 0.0016\n",
            "Epoch 19/100\n",
            "178/178 [==============================] - 10s 58ms/step - loss: 0.0015\n",
            "Epoch 20/100\n",
            "178/178 [==============================] - 11s 61ms/step - loss: 0.0015\n",
            "Epoch 21/100\n",
            "178/178 [==============================] - 11s 64ms/step - loss: 0.0016\n",
            "Epoch 22/100\n",
            "178/178 [==============================] - 11s 64ms/step - loss: 0.0016\n",
            "Epoch 23/100\n",
            "178/178 [==============================] - 11s 64ms/step - loss: 0.0015\n",
            "Epoch 24/100\n",
            "178/178 [==============================] - 11s 65ms/step - loss: 0.0015\n",
            "Epoch 25/100\n",
            "178/178 [==============================] - 12s 65ms/step - loss: 0.0014\n",
            "Epoch 26/100\n",
            "178/178 [==============================] - 12s 65ms/step - loss: 0.0014\n",
            "Epoch 27/100\n",
            "178/178 [==============================] - 10s 59ms/step - loss: 0.0014\n",
            "Epoch 28/100\n",
            "178/178 [==============================] - 11s 62ms/step - loss: 0.0015\n",
            "Epoch 29/100\n",
            "178/178 [==============================] - 11s 64ms/step - loss: 0.0014\n",
            "Epoch 30/100\n",
            "178/178 [==============================] - 11s 65ms/step - loss: 0.0014\n",
            "Epoch 31/100\n",
            "178/178 [==============================] - 12s 65ms/step - loss: 0.0014\n",
            "Epoch 32/100\n",
            "178/178 [==============================] - 12s 65ms/step - loss: 0.0014\n",
            "Epoch 33/100\n",
            "178/178 [==============================] - 11s 64ms/step - loss: 0.0014\n",
            "Epoch 34/100\n",
            "178/178 [==============================] - 11s 64ms/step - loss: 0.0014\n",
            "Epoch 35/100\n",
            "178/178 [==============================] - 10s 58ms/step - loss: 0.0013\n",
            "Epoch 36/100\n",
            "178/178 [==============================] - 11s 63ms/step - loss: 0.0013\n",
            "Epoch 37/100\n",
            "178/178 [==============================] - 11s 64ms/step - loss: 0.0014\n",
            "Epoch 38/100\n",
            "178/178 [==============================] - 11s 64ms/step - loss: 0.0013\n",
            "Epoch 39/100\n",
            "178/178 [==============================] - 11s 65ms/step - loss: 0.0013\n",
            "Epoch 40/100\n",
            "178/178 [==============================] - 12s 65ms/step - loss: 0.0013\n",
            "Epoch 41/100\n",
            "178/178 [==============================] - 12s 65ms/step - loss: 0.0013\n",
            "Epoch 42/100\n",
            "178/178 [==============================] - 11s 63ms/step - loss: 0.0013\n",
            "Epoch 43/100\n",
            "178/178 [==============================] - 11s 59ms/step - loss: 0.0013\n",
            "Epoch 44/100\n",
            "178/178 [==============================] - 11s 64ms/step - loss: 0.0014\n",
            "Epoch 45/100\n",
            "178/178 [==============================] - 11s 64ms/step - loss: 0.0013\n",
            "Epoch 46/100\n",
            "178/178 [==============================] - 11s 64ms/step - loss: 0.0013\n",
            "Epoch 47/100\n",
            "178/178 [==============================] - 11s 64ms/step - loss: 0.0013\n",
            "Epoch 48/100\n",
            "178/178 [==============================] - 11s 64ms/step - loss: 0.0013\n",
            "Epoch 49/100\n",
            "178/178 [==============================] - 11s 64ms/step - loss: 0.0013\n",
            "Epoch 50/100\n",
            "178/178 [==============================] - 11s 64ms/step - loss: 0.0013\n",
            "Epoch 51/100\n",
            "178/178 [==============================] - 11s 59ms/step - loss: 0.0013\n",
            "Epoch 52/100\n",
            "178/178 [==============================] - 11s 64ms/step - loss: 0.0013\n",
            "Epoch 53/100\n",
            "178/178 [==============================] - 11s 64ms/step - loss: 0.0013\n",
            "Epoch 54/100\n",
            "178/178 [==============================] - 11s 64ms/step - loss: 0.0013\n",
            "Epoch 55/100\n",
            "178/178 [==============================] - 11s 64ms/step - loss: 0.0013\n",
            "Epoch 56/100\n",
            "178/178 [==============================] - 11s 64ms/step - loss: 0.0013\n",
            "Epoch 57/100\n",
            "178/178 [==============================] - 11s 64ms/step - loss: 0.0013\n",
            "Epoch 58/100\n",
            "178/178 [==============================] - 12s 65ms/step - loss: 0.0013\n",
            "Epoch 59/100\n",
            "178/178 [==============================] - 11s 59ms/step - loss: 0.0013\n",
            "Epoch 60/100\n",
            "178/178 [==============================] - 11s 63ms/step - loss: 0.0012\n",
            "Epoch 61/100\n",
            "178/178 [==============================] - 11s 64ms/step - loss: 0.0013\n",
            "Epoch 62/100\n",
            "178/178 [==============================] - 11s 64ms/step - loss: 0.0013\n",
            "Epoch 63/100\n",
            "178/178 [==============================] - 11s 64ms/step - loss: 0.0012\n",
            "Epoch 64/100\n",
            "178/178 [==============================] - 11s 64ms/step - loss: 0.0012\n",
            "Epoch 65/100\n",
            "178/178 [==============================] - 11s 64ms/step - loss: 0.0013\n",
            "Epoch 66/100\n",
            "178/178 [==============================] - 11s 64ms/step - loss: 0.0012\n",
            "Epoch 67/100\n",
            "178/178 [==============================] - 11s 60ms/step - loss: 0.0013\n",
            "Epoch 68/100\n",
            "178/178 [==============================] - 11s 63ms/step - loss: 0.0012\n",
            "Epoch 69/100\n",
            "178/178 [==============================] - 11s 64ms/step - loss: 0.0012\n",
            "Epoch 70/100\n",
            "178/178 [==============================] - 11s 64ms/step - loss: 0.0013\n",
            "Epoch 71/100\n",
            "178/178 [==============================] - 11s 64ms/step - loss: 0.0012\n",
            "Epoch 72/100\n",
            "178/178 [==============================] - 11s 64ms/step - loss: 0.0012\n",
            "Epoch 73/100\n",
            "178/178 [==============================] - 11s 64ms/step - loss: 0.0012\n",
            "Epoch 74/100\n",
            "178/178 [==============================] - 11s 61ms/step - loss: 0.0012\n",
            "Epoch 75/100\n",
            "178/178 [==============================] - 11s 61ms/step - loss: 0.0011\n",
            "Epoch 76/100\n",
            "178/178 [==============================] - 12s 66ms/step - loss: 0.0011\n",
            "Epoch 77/100\n",
            "178/178 [==============================] - 12s 69ms/step - loss: 0.0011\n",
            "Epoch 78/100\n",
            "178/178 [==============================] - 12s 65ms/step - loss: 0.0011\n",
            "Epoch 79/100\n",
            "178/178 [==============================] - 11s 65ms/step - loss: 0.0012\n",
            "Epoch 80/100\n",
            "178/178 [==============================] - 12s 65ms/step - loss: 0.0012\n",
            "Epoch 81/100\n",
            "178/178 [==============================] - 11s 65ms/step - loss: 0.0011\n",
            "Epoch 82/100\n",
            "178/178 [==============================] - 12s 65ms/step - loss: 0.0011\n",
            "Epoch 83/100\n",
            "178/178 [==============================] - 11s 61ms/step - loss: 0.0011\n",
            "Epoch 84/100\n",
            "178/178 [==============================] - 11s 63ms/step - loss: 0.0011\n",
            "Epoch 85/100\n",
            "178/178 [==============================] - 12s 66ms/step - loss: 0.0011\n",
            "Epoch 86/100\n",
            "178/178 [==============================] - 12s 65ms/step - loss: 0.0011\n",
            "Epoch 87/100\n",
            "178/178 [==============================] - 12s 66ms/step - loss: 0.0011\n",
            "Epoch 88/100\n",
            "178/178 [==============================] - 12s 65ms/step - loss: 0.0011\n",
            "Epoch 89/100\n",
            "178/178 [==============================] - 12s 66ms/step - loss: 0.0011\n",
            "Epoch 90/100\n",
            "178/178 [==============================] - 11s 65ms/step - loss: 0.0011\n",
            "Epoch 91/100\n",
            "178/178 [==============================] - 12s 65ms/step - loss: 0.0012\n",
            "Epoch 92/100\n",
            "178/178 [==============================] - 12s 66ms/step - loss: 0.0011\n",
            "Epoch 93/100\n",
            "178/178 [==============================] - 11s 61ms/step - loss: 0.0011\n",
            "Epoch 94/100\n",
            "178/178 [==============================] - 12s 67ms/step - loss: 0.0011\n",
            "Epoch 95/100\n",
            "178/178 [==============================] - 12s 65ms/step - loss: 0.0011\n",
            "Epoch 96/100\n",
            "178/178 [==============================] - 12s 65ms/step - loss: 0.0011\n",
            "Epoch 97/100\n",
            "178/178 [==============================] - 12s 65ms/step - loss: 0.0012\n",
            "Epoch 98/100\n",
            "178/178 [==============================] - 12s 65ms/step - loss: 0.0011\n",
            "Epoch 99/100\n",
            "178/178 [==============================] - 12s 65ms/step - loss: 0.0011\n",
            "Epoch 100/100\n",
            "178/178 [==============================] - 12s 65ms/step - loss: 0.0011\n"
          ]
        },
        {
          "output_type": "execute_result",
          "data": {
            "text/plain": [
              "<keras.callbacks.History at 0x7fd0796535b0>"
            ]
          },
          "metadata": {},
          "execution_count": 18
        }
      ],
      "source": [
        "regressor.fit(X_gold, y_gold, epochs = 100, batch_size = 32)"
      ]
    },
    {
      "cell_type": "markdown",
      "metadata": {
        "id": "QbFtVdJP1kVr"
      },
      "source": [
        "## Obtendo o preço real"
      ]
    },
    {
      "cell_type": "code",
      "execution_count": null,
      "metadata": {
        "id": "MA8BXnVSvQ7H",
        "colab": {
          "base_uri": "https://localhost:8080/"
        },
        "outputId": "4a1733d9-e59b-4cd4-a674-7056e5e68f52"
      },
      "outputs": [
        {
          "output_type": "stream",
          "name": "stdout",
          "text": [
            "\r[*********************100%***********************]  1 of 1 completed\n"
          ]
        }
      ],
      "source": [
        "dataset_test = yf.download('GC=F', start='2023-05-01', end='2023-05-31')\n",
        "real_preco_acao = dataset_test.iloc[:, 1:2].values"
      ]
    },
    {
      "cell_type": "markdown",
      "metadata": {
        "id": "YCxu8_cT1xP2"
      },
      "source": [
        "## Previsão"
      ]
    },
    {
      "cell_type": "code",
      "execution_count": null,
      "metadata": {
        "id": "Ntha8aWD1psX",
        "colab": {
          "base_uri": "https://localhost:8080/"
        },
        "outputId": "afc17b90-17cb-46a4-fb08-1919d386aa18"
      },
      "outputs": [
        {
          "output_type": "stream",
          "name": "stdout",
          "text": [
            "1/1 [==============================] - 2s 2s/step\n"
          ]
        }
      ],
      "source": [
        "dataset_total = pd.concat((df['Close'], dataset_test['Close']), axis = 0)\n",
        "inputs = dataset_total[len(dataset_total) - len(dataset_test) - 20:].values\n",
        "inputs = inputs.reshape(-1,1)\n",
        "inputs = sc.transform(inputs)\n",
        "X_test = []\n",
        "for i in range(20, 40):\n",
        "    X_test.append(inputs[i-20:i, 0])\n",
        "X_test = np.array(X_test)\n",
        "X_test = np.reshape(X_test, (X_test.shape[0], X_test.shape[1], 1))\n",
        "predicted_stock_price = regressor.predict(X_test)\n",
        "predicted_stock_price = sc.inverse_transform(predicted_stock_price)"
      ]
    },
    {
      "cell_type": "markdown",
      "metadata": {
        "id": "HcI8UBps2TQe"
      },
      "source": [
        "## Visualizando"
      ]
    },
    {
      "cell_type": "code",
      "execution_count": null,
      "metadata": {
        "id": "N1cDHdvW2Q9m",
        "colab": {
          "base_uri": "https://localhost:8080/",
          "height": 472
        },
        "outputId": "6f19c422-64ea-4a00-8e14-3efe19b56461"
      },
      "outputs": [
        {
          "output_type": "display_data",
          "data": {
            "text/plain": [
              "<Figure size 640x480 with 1 Axes>"
            ],
            "image/png": "[encoded data removed]"
          },
          "metadata": {}
        }
      ],
      "source": [
        "plt.plot(real_preco_acao, color = 'red', label = 'Preço Real')\n",
        "plt.plot(predicted_stock_price, color = 'blue', label = 'Previsão')\n",
        "plt.title('Preço do Ouro')\n",
        "plt.xlabel('Tempo')\n",
        "plt.ylabel('Preço')\n",
        "plt.legend()\n",
        "plt.show()"
      ]
    },
    {
      "cell_type": "markdown",
      "metadata": {
        "id": "e1tBH8qx8etz"
      },
      "source": [
        "\n",
        "\n",
        "\n",
        "\n"
      ]
    }
  ],
  "metadata": {
    "colab": {
      "provenance": [],
      "include_colab_link": true
    },
    "kernelspec": {
      "display_name": "Python 3",
      "name": "python3"
    },
    "language_info": {
      "name": "python"
    }
  },
  "nbformat": 4,
  "nbformat_minor": 0
}